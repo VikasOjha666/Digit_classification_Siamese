{
  "nbformat": 4,
  "nbformat_minor": 0,
  "metadata": {
    "colab": {
      "name": "Digit classification using siamese.ipynb",
      "provenance": [],
      "collapsed_sections": []
    },
    "kernelspec": {
      "name": "python3",
      "display_name": "Python 3"
    },
    "accelerator": "GPU"
  },
  "cells": [
    {
      "cell_type": "code",
      "metadata": {
        "id": "2P2dx7ZJ2A4z",
        "colab_type": "code",
        "colab": {}
      },
      "source": [
        "from keras.datasets import mnist\n",
        "import keras\n",
        "import numpy as np"
      ],
      "execution_count": 0,
      "outputs": []
    },
    {
      "cell_type": "code",
      "metadata": {
        "id": "sfnNXLaw2SJc",
        "colab_type": "code",
        "colab": {}
      },
      "source": [
        "(X_train,y_train),(X_test,y_test)=mnist.load_data()\n"
      ],
      "execution_count": 0,
      "outputs": []
    },
    {
      "cell_type": "code",
      "metadata": {
        "id": "szEF7qvg3zoj",
        "colab_type": "code",
        "outputId": "f7497ea2-8093-400a-cc34-2925a0ffc52d",
        "colab": {
          "base_uri": "https://localhost:8080/",
          "height": 34
        }
      },
      "source": [
        "X_train[0].shape"
      ],
      "execution_count": 31,
      "outputs": [
        {
          "output_type": "execute_result",
          "data": {
            "text/plain": [
              "(28, 28)"
            ]
          },
          "metadata": {
            "tags": []
          },
          "execution_count": 31
        }
      ]
    },
    {
      "cell_type": "code",
      "metadata": {
        "id": "JIUQTmCG2izB",
        "colab_type": "code",
        "colab": {}
      },
      "source": [
        "def generate_idxs(X):\n",
        "    idxs1=np.random.randint(0,len(X),1)[0]\n",
        "    return idxs1\n",
        "\n",
        "def same_label_index(X,Y):\n",
        "\n",
        "  while True:\n",
        "    idx1=generate_idxs(X)\n",
        "    idx2=generate_idxs(X)\n",
        "\n",
        "    if Y[idx1]==Y[idx2]:\n",
        "      break\n",
        "\n",
        "  return idx1,idx2\n",
        "\n",
        "def different_label_index(X,Y):\n",
        "  while True:\n",
        "    idx1=generate_idxs(X)\n",
        "    idx2=generate_idxs(X)\n",
        "    if Y[idx1]!=Y[idx2]:\n",
        "      break\n",
        "\n",
        "  return idx1,idx2\n",
        "\n",
        "def batch_generator_train(X,Y,batch_size):\n",
        "  while True:\n",
        "    data=[np.zeros((batch_size,28,28,1)) for i in range(2)]\n",
        "    tar=[np.zeros((batch_size,))]\n",
        "    \n",
        "    #Same pairs.\n",
        "    for i in range(0,batch_size//2):\n",
        "      idx1,idx2=same_label_index(X,Y)\n",
        "      dig1=np.expand_dims(X[idx1],axis=-1)\n",
        "      dig2=np.expand_dims(X[idx2],axis=-1)\n",
        "\n",
        "      data[0][i,:,:,:]=dig1\n",
        "      data[1][i,:,:,:]=dig2\n",
        "      tar[0][i]=1\n",
        "\n",
        "    #Different pairs\n",
        "    for j in range(batch_size//2,batch_size):\n",
        "      idx1,idx2=different_label_index(X,Y)\n",
        "      dig1=np.expand_dims(X[idx1],axis=-1)\n",
        "      dig2=np.expand_dims(X[idx2],axis=-1)\n",
        "\n",
        "      data[0][j,:,:,:]=dig1\n",
        "      data[1][j,:,:,:]=dig2\n",
        "      tar[0][j]=0\n",
        "  \n",
        "    yield data,tar\n",
        "\n",
        "def batch_generator_test(X,Y,batch_size):\n",
        "  while True:\n",
        "    data=[np.zeros((batch_size,28,28,1)) for i in range(2)]\n",
        "    tar=[np.zeros((batch_size,))]\n",
        "    \n",
        "    #Same pairs.\n",
        "    for i in range(0,batch_size//2):\n",
        "      idx1,idx2=same_label_index(X,Y)\n",
        "      dig1=np.expand_dims(X[idx1],axis=-1)\n",
        "      dig2=np.expand_dims(X[idx2],axis=-1)\n",
        "\n",
        "      data[0][i,:,:,:]=dig1\n",
        "      data[1][i,:,:,:]=dig2\n",
        "      tar[0][i]=1\n",
        "\n",
        "    #Different pairs\n",
        "    for j in range(batch_size//2,batch_size):\n",
        "      idx1,idx2=different_label_index(X,Y)\n",
        "      dig1=np.expand_dims(X[idx1],axis=-1)\n",
        "      dig2=np.expand_dims(X[idx2],axis=-1)\n",
        "\n",
        "      data[0][j,:,:,:]=dig1\n",
        "      data[1][j,:,:,:]=dig2\n",
        "      tar[0][j]=0\n",
        "  \n",
        "    yield data,tar\n",
        "\n",
        "\n",
        "\n",
        "\n",
        "\n",
        "\n",
        "  \n",
        "  \n",
        "  \n",
        "\n",
        "\n",
        "\n",
        "   \n",
        "\n",
        "\n",
        "\n",
        "\n",
        "\n",
        "\n",
        "   \n"
      ],
      "execution_count": 0,
      "outputs": []
    },
    {
      "cell_type": "code",
      "metadata": {
        "id": "gxKDjkWF8Q39",
        "colab_type": "code",
        "colab": {}
      },
      "source": [
        "X_tr,y_tr=next(batch_generator_train(X_train,y_train,10))"
      ],
      "execution_count": 0,
      "outputs": []
    },
    {
      "cell_type": "code",
      "metadata": {
        "id": "rm-ackuY-bJq",
        "colab_type": "code",
        "outputId": "3e3cc5fd-988b-4388-c1a8-2a51971e5adb",
        "colab": {
          "base_uri": "https://localhost:8080/",
          "height": 34
        }
      },
      "source": [
        "y_tr[0][5]"
      ],
      "execution_count": 74,
      "outputs": [
        {
          "output_type": "execute_result",
          "data": {
            "text/plain": [
              "0.0"
            ]
          },
          "metadata": {
            "tags": []
          },
          "execution_count": 74
        }
      ]
    },
    {
      "cell_type": "code",
      "metadata": {
        "id": "au8GF7598qds",
        "colab_type": "code",
        "outputId": "593c8e28-2698-46fb-c437-fb9ce8243904",
        "colab": {
          "base_uri": "https://localhost:8080/",
          "height": 201
        }
      },
      "source": [
        "import matplotlib.pyplot as plt\n",
        "f = plt.figure()\n",
        "f.add_subplot(1,2, 1)\n",
        "img1=X_tr[0][5,:,:,:]\n",
        "img1=np.squeeze(img1,axis=2)\n",
        "plt.imshow(img1)\n",
        "\n",
        "f.add_subplot(1,2, 2)\n",
        "img2=X_tr[1][5,:,:,:]\n",
        "img2=np.squeeze(img2,axis=2)\n",
        "plt.imshow(img2)\n",
        "\n",
        "plt.show(block=True)\n"
      ],
      "execution_count": 69,
      "outputs": [
        {
          "output_type": "display_data",
          "data": {
            "image/png": "[encoded data removed]",
            "text/plain": [
              "<Figure size 432x288 with 2 Axes>"
            ]
          },
          "metadata": {
            "tags": []
          }
        }
      ]
    },
    {
      "cell_type": "code",
      "metadata": {
        "id": "XuOo6UbYAhnC",
        "colab_type": "code",
        "colab": {}
      },
      "source": [
        "from keras.models import Sequential,Model\n",
        "from keras.layers import Conv2D,MaxPool2D,Dense,GlobalAvgPool2D,Lambda,Input,Dropout\n",
        "import keras.backend as K\n",
        "def build_model(input_shape):\n",
        "\n",
        " model=Sequential()\n",
        " model.add(Conv2D(32,(5,5),input_shape=input_shape,activation='relu'))\n",
        " model.add(Dropout(0.1))\n",
        " model.add(MaxPool2D(2,2))\n",
        " \n",
        "\n",
        " model.add(Conv2D(64,(3,3),activation='relu'))\n",
        " model.add(Dropout(0.2))\n",
        " model.add(MaxPool2D(2,2))\n",
        "\n",
        " model.add(Conv2D(64,(3,3),activation='relu'))\n",
        " model.add(Dropout(0.1))\n",
        " model.add(MaxPool2D(2,2))\n",
        "\n",
        " model.add(GlobalAvgPool2D())\n",
        " \n",
        " input1=Input(input_shape)\n",
        " input2=Input(input_shape)\n",
        " \n",
        " encoder_l=model(input1)\n",
        " encoder_r=model(input2)\n",
        "\n",
        " L1_layer = Lambda(lambda tensors:K.abs(tensors[0] - tensors[1]))\n",
        " L1_distance = L1_layer([encoder_l, encoder_r])\n",
        "\n",
        " output=Dense(1,activation='sigmoid')(L1_distance)\n",
        " siamese=Model(inputs=[input1,input2],outputs=output)\n",
        "\n",
        " return siamese\n",
        "\n",
        "\n",
        "\n"
      ],
      "execution_count": 0,
      "outputs": []
    },
    {
      "cell_type": "code",
      "metadata": {
        "id": "HKOB3N35EZcV",
        "colab_type": "code",
        "colab": {}
      },
      "source": [
        "from keras.optimizers import Adam\n",
        "siamese_model=build_model((28,28,1))\n",
        "siamese_model.compile(loss='binary_crossentropy',optimizer=Adam(lr=0.001))\n"
      ],
      "execution_count": 0,
      "outputs": []
    },
    {
      "cell_type": "code",
      "metadata": {
        "id": "6LNkiBZHFGNq",
        "colab_type": "code",
        "colab": {
          "base_uri": "https://localhost:8080/",
          "height": 1000
        },
        "outputId": "f43251c5-d8cc-4b55-ec1a-38b43da4471b"
      },
      "source": [
        "history=siamese_model.fit_generator(batch_generator_train(X_train,y_train,2),steps_per_epoch=150,validation_data=batch_generator_test(X_test,y_test,2),\n",
        "                                    validation_steps=50,epochs=50,shuffle=True)"
      ],
      "execution_count": 97,
      "outputs": [
        {
          "output_type": "stream",
          "text": [
            "Epoch 1/50\n",
            "150/150 [==============================] - 4s 28ms/step - loss: 4.9719 - val_loss: 2.1934\n",
            "Epoch 2/50\n",
            "150/150 [==============================] - 2s 11ms/step - loss: 2.9071 - val_loss: 1.8108\n",
            "Epoch 3/50\n",
            "150/150 [==============================] - 2s 11ms/step - loss: 2.9638 - val_loss: 1.5178\n",
            "Epoch 4/50\n",
            "150/150 [==============================] - 2s 11ms/step - loss: 1.9713 - val_loss: 1.1874\n",
            "Epoch 5/50\n",
            "150/150 [==============================] - 2s 11ms/step - loss: 1.0383 - val_loss: 0.8961\n",
            "Epoch 6/50\n",
            "150/150 [==============================] - 2s 11ms/step - loss: 1.0616 - val_loss: 0.6237\n",
            "Epoch 7/50\n",
            "150/150 [==============================] - 2s 11ms/step - loss: 1.0250 - val_loss: 0.5853\n",
            "Epoch 8/50\n",
            "150/150 [==============================] - 2s 11ms/step - loss: 1.1807 - val_loss: 0.6836\n",
            "Epoch 9/50\n",
            "150/150 [==============================] - 2s 11ms/step - loss: 0.7360 - val_loss: 0.5753\n",
            "Epoch 10/50\n",
            "150/150 [==============================] - 2s 11ms/step - loss: 0.7339 - val_loss: 0.5957\n",
            "Epoch 11/50\n",
            "150/150 [==============================] - 2s 11ms/step - loss: 0.6625 - val_loss: 0.5635\n",
            "Epoch 12/50\n",
            "150/150 [==============================] - 2s 11ms/step - loss: 0.5638 - val_loss: 0.5771\n",
            "Epoch 13/50\n",
            "150/150 [==============================] - 2s 11ms/step - loss: 0.6321 - val_loss: 0.4517\n",
            "Epoch 14/50\n",
            "150/150 [==============================] - 2s 11ms/step - loss: 0.5802 - val_loss: 0.4942\n",
            "Epoch 15/50\n",
            "150/150 [==============================] - 2s 11ms/step - loss: 0.5975 - val_loss: 0.5245\n",
            "Epoch 16/50\n",
            "150/150 [==============================] - 2s 11ms/step - loss: 0.5698 - val_loss: 0.6659\n",
            "Epoch 17/50\n",
            "150/150 [==============================] - 2s 11ms/step - loss: 0.6944 - val_loss: 0.5405\n",
            "Epoch 18/50\n",
            "150/150 [==============================] - 2s 11ms/step - loss: 0.5078 - val_loss: 0.5406\n",
            "Epoch 19/50\n",
            "150/150 [==============================] - 2s 12ms/step - loss: 0.5076 - val_loss: 0.4587\n",
            "Epoch 20/50\n",
            "150/150 [==============================] - 2s 11ms/step - loss: 0.5527 - val_loss: 0.4844\n",
            "Epoch 21/50\n",
            "150/150 [==============================] - 2s 11ms/step - loss: 0.5180 - val_loss: 0.4016\n",
            "Epoch 22/50\n",
            "150/150 [==============================] - 2s 12ms/step - loss: 0.5368 - val_loss: 0.4900\n",
            "Epoch 23/50\n",
            "150/150 [==============================] - 2s 12ms/step - loss: 0.4997 - val_loss: 0.4251\n",
            "Epoch 24/50\n",
            "150/150 [==============================] - 2s 11ms/step - loss: 0.5154 - val_loss: 0.4347\n",
            "Epoch 25/50\n",
            "150/150 [==============================] - 2s 11ms/step - loss: 0.5126 - val_loss: 0.4883\n",
            "Epoch 26/50\n",
            "150/150 [==============================] - 2s 12ms/step - loss: 0.4458 - val_loss: 0.4229\n",
            "Epoch 27/50\n",
            "150/150 [==============================] - 2s 11ms/step - loss: 0.6602 - val_loss: 0.5296\n",
            "Epoch 28/50\n",
            "150/150 [==============================] - 2s 11ms/step - loss: 0.5160 - val_loss: 0.3879\n",
            "Epoch 29/50\n",
            "150/150 [==============================] - 2s 11ms/step - loss: 0.4380 - val_loss: 0.3975\n",
            "Epoch 30/50\n",
            "150/150 [==============================] - 2s 11ms/step - loss: 0.5006 - val_loss: 0.3990\n",
            "Epoch 31/50\n",
            "150/150 [==============================] - 2s 11ms/step - loss: 0.4514 - val_loss: 0.4791\n",
            "Epoch 32/50\n",
            "150/150 [==============================] - 2s 11ms/step - loss: 0.4990 - val_loss: 0.4536\n",
            "Epoch 33/50\n",
            "150/150 [==============================] - 2s 11ms/step - loss: 0.5596 - val_loss: 0.4275\n",
            "Epoch 34/50\n",
            "150/150 [==============================] - 2s 11ms/step - loss: 0.4990 - val_loss: 0.3703\n",
            "Epoch 35/50\n",
            "150/150 [==============================] - 2s 12ms/step - loss: 0.4416 - val_loss: 0.4425\n",
            "Epoch 36/50\n",
            "150/150 [==============================] - 2s 11ms/step - loss: 0.4705 - val_loss: 0.3809\n",
            "Epoch 37/50\n",
            "150/150 [==============================] - 2s 12ms/step - loss: 0.5112 - val_loss: 0.3934\n",
            "Epoch 38/50\n",
            "150/150 [==============================] - 2s 12ms/step - loss: 0.5413 - val_loss: 0.4027\n",
            "Epoch 39/50\n",
            "150/150 [==============================] - 2s 12ms/step - loss: 0.5054 - val_loss: 0.4538\n",
            "Epoch 40/50\n",
            "150/150 [==============================] - 2s 11ms/step - loss: 0.4740 - val_loss: 0.4433\n",
            "Epoch 41/50\n",
            "150/150 [==============================] - 2s 11ms/step - loss: 0.4635 - val_loss: 0.4210\n",
            "Epoch 42/50\n",
            "150/150 [==============================] - 2s 11ms/step - loss: 0.4209 - val_loss: 0.3532\n",
            "Epoch 43/50\n",
            "150/150 [==============================] - 2s 11ms/step - loss: 0.4090 - val_loss: 0.3704\n",
            "Epoch 44/50\n",
            "150/150 [==============================] - 2s 11ms/step - loss: 0.4907 - val_loss: 0.4535\n",
            "Epoch 45/50\n",
            "150/150 [==============================] - 2s 11ms/step - loss: 0.4689 - val_loss: 0.4136\n",
            "Epoch 46/50\n",
            "150/150 [==============================] - 2s 11ms/step - loss: 0.3435 - val_loss: 0.3121\n",
            "Epoch 47/50\n",
            "150/150 [==============================] - 2s 11ms/step - loss: 0.4280 - val_loss: 0.3586\n",
            "Epoch 48/50\n",
            "150/150 [==============================] - 2s 12ms/step - loss: 0.5155 - val_loss: 0.4614\n",
            "Epoch 49/50\n",
            "150/150 [==============================] - 2s 12ms/step - loss: 0.4670 - val_loss: 0.4099\n",
            "Epoch 50/50\n",
            "150/150 [==============================] - 2s 11ms/step - loss: 0.4124 - val_loss: 0.3538\n"
          ],
          "name": "stdout"
        }
      ]
    },
    {
      "cell_type": "code",
      "metadata": {
        "id": "Gr-E12v7LeEP",
        "colab_type": "code",
        "colab": {
          "base_uri": "https://localhost:8080/",
          "height": 50
        },
        "outputId": "53fab8e0-b344-401a-a6f0-911e0e0cdef5"
      },
      "source": [
        "idx1,idx2=same_label_index(X_test,y_test)\n",
        "X1=[np.zeros((1,28,28,1)) for i in range(2)]\n",
        "X1[0][0,:,:,:]=np.expand_dims(X_test[idx1],axis=-1)\n",
        "X1[1][0,:,:,:]=np.expand_dims(X_test[idx2],axis=-1)\n",
        "\n",
        "idx1,idx2=different_label_index(X_test,y_test)\n",
        "X2=[np.zeros((1,28,28,1)) for i in range(2)]\n",
        "X2[0][0,:,:,:]=np.expand_dims(X_test[idx1],axis=-1)\n",
        "X2[1][0,:,:,:]=np.expand_dims(X_test[idx2],axis=-1)\n",
        "\n",
        "print(siamese_model.predict(X1))\n",
        "print(siamese_model.predict(X2))"
      ],
      "execution_count": 103,
      "outputs": [
        {
          "output_type": "stream",
          "text": [
            "[[0.75682765]]\n",
            "[[0.21019356]]\n"
          ],
          "name": "stdout"
        }
      ]
    }
  ]
}